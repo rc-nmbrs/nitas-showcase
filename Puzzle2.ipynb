{
 "cells": [
  {
   "cell_type": "code",
   "execution_count": 13,
   "metadata": {},
   "outputs": [
    {
     "name": "stdout",
     "output_type": "stream",
     "text": [
      "(2083, 1002964, 955)\n",
      "Horizontal by depth value: 2089174012\n"
     ]
    }
   ],
   "source": [
    "# Rafael Chavez\n",
    "\n",
    "file_name = \"puzzle2.txt\"\n",
    "def filter_puzzleList(content_list):\n",
    "    filtered_list = list(filter(None, content_list))\n",
    "    \n",
    "    return filtered_list\n",
    "\n",
    "\n",
    "def get_puzzle2Data(file_name):\n",
    "    \n",
    "    puzzle1_file = open(file_name, \"r\")\n",
    "    puzzle1_content = puzzle1_file.read()\n",
    "    content_list = puzzle1_content.split(\"\\n\")\n",
    "    content_list = filter_puzzleList(content_list)\n",
    "    \n",
    "    return content_list\n",
    "\n",
    "def convert_string_list(filtered_list):\n",
    "    content_listInt = [int(i) for i in filtered_list]\n",
    "    \n",
    "    return content_listInt\n",
    "\n",
    "\n",
    "def calculate_move(list_ofMoves):\n",
    "    forward_total = 0\n",
    "    depth_total = 0\n",
    "    aim_total = 0\n",
    "    for val in range(0,len(list_ofMoves)):\n",
    "        if list_ofMoves[val].split(\" \")[0] == \"forward\":\n",
    "            forward_total += int(list_ofMoves[val].split(\" \")[1])\n",
    "            depth_total += aim_total*int(list_ofMoves[val].split(\" \")[1])\n",
    "        elif list_ofMoves[val].split(\" \")[0] == \"down\":\n",
    "            #depth_total+=int(list_ofMoves[val].split(\" \")[1])\n",
    "            aim_total += int(list_ofMoves[val].split(\" \")[1])\n",
    "        else:\n",
    "            #depth_total-=int(list_ofMoves[val].split(\" \")[1])\n",
    "            aim_total -= int(list_ofMoves[val].split(\" \")[1])\n",
    "    return forward_total,depth_total,aim_total\n",
    "\n",
    "list_of_moves = get_puzzle2Data(file_name)\n",
    "\n",
    "position = calculate_move(list_of_moves)\n",
    "print(position)\n",
    "print(\"Horizontal by depth value: \" + str(position[0]*position[1]))\n",
    "#print(position[0]*position[1])\n",
    "\n",
    "\n",
    "# Since reading the file makes a list of lines, the list will be \n",
    "# as follows [\"down 5\", \"forwared 5\", \"side 4\"] so as I traverse the list\n",
    "# I should do this --> for i in list, if list.split(\" \")"
   ]
  },
  {
   "cell_type": "code",
   "execution_count": null,
   "metadata": {},
   "outputs": [],
   "source": []
  }
 ],
 "metadata": {
  "kernelspec": {
   "display_name": "Python 3",
   "language": "python",
   "name": "python3"
  },
  "language_info": {
   "codemirror_mode": {
    "name": "ipython",
    "version": 3
   },
   "file_extension": ".py",
   "mimetype": "text/x-python",
   "name": "python",
   "nbconvert_exporter": "python",
   "pygments_lexer": "ipython3",
   "version": "3.8.5"
  }
 },
 "nbformat": 4,
 "nbformat_minor": 4
}
