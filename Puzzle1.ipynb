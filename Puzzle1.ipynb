{
 "cells": [
  {
   "cell_type": "code",
   "execution_count": 45,
   "metadata": {},
   "outputs": [
    {
     "name": "stdout",
     "output_type": "stream",
     "text": [
      "2001\n",
      "Value increased: 1130 times\n",
      "Value decreased: 814 times\n",
      "Value saw no change: 56times\n",
      "0\n"
     ]
    }
   ],
   "source": [
    "# Rafael Chavez\n",
    "# 12/7/21\n",
    "# Day 1: Sonar Sweep\n",
    "\n",
    "file_name = \"puzzle1.txt\"\n",
    "is_larger_list = []\n",
    "\n",
    "\n",
    "def filter_puzzleList(content_list):\n",
    "    filtered_list = list(filter(None, content_list))\n",
    "    \n",
    "    return filtered_list\n",
    "\n",
    "\n",
    "def get_puzzle1Data(file_name):\n",
    "    \n",
    "    puzzle1_file = open(file_name, \"r\")\n",
    "    puzzle1_content = puzzle1_file.read()\n",
    "    content_list = puzzle1_content.split(\"\\n\")\n",
    "    content_list = filter_puzzleList(content_list)\n",
    "    \n",
    "    return content_list\n",
    "\n",
    "\n",
    "    \n",
    "def convert_string_list(filtered_list):\n",
    "    content_listInt = [int(i) for i in filtered_list]\n",
    "    \n",
    "    return content_listInt\n",
    "\n",
    "\n",
    "def calculate_difference(content_listINT,is_larger_list):\n",
    "    increased_count = 0\n",
    "    decreased_count = 0\n",
    "    no_change_count = 0\n",
    "    for val in range(0,len(content_listInt)):\n",
    "        if sum(content_listInt[val:val+3]) < sum(content_listInt[val+1:val+4]):\n",
    "            #print(sum(content_listInt[val:val+3]))\n",
    "            is_larger_list.append(\"increased\")\n",
    "            increased_count +=1\n",
    "        elif sum(content_listInt[val:val+3]) == sum(content_listInt[val+1:val+4]):\n",
    "            is_larger_list.append(\"no change\")\n",
    "            no_change_count +=1\n",
    "        else:\n",
    "            is_larger_list.append(\"decreased\")\n",
    "            decreased_count +=1\n",
    "            \n",
    "    return increased_count,no_change_count,decreased_count\n",
    "    \n",
    "\n",
    "\n",
    "fltr_list = get_puzzle1Data(file_name)\n",
    "conv_toInt = convert_string_list(fltr_list)\n",
    "diff_tuple = calculate_difference(conv_toInt,is_larger_list)\n",
    "\n",
    "        \n",
    "print(len(content_list))\n",
    "print(\"Value increased: \" + str(diff_tuple[0]) + \" times\")\n",
    "print(\"Value decreased: \" + str(diff_tuple[2]) + \" times\")\n",
    "print(\"Value saw no change: \" + str(diff_tuple[1]) + \"times\")\n",
    "print(no_change_count)\n",
    "        \n",
    "my_file.close()\n",
    "#print(is_larger_list)"
   ]
  },
  {
   "cell_type": "code",
   "execution_count": null,
   "metadata": {},
   "outputs": [],
   "source": []
  }
 ],
 "metadata": {
  "kernelspec": {
   "display_name": "Python 3",
   "language": "python",
   "name": "python3"
  },
  "language_info": {
   "codemirror_mode": {
    "name": "ipython",
    "version": 3
   },
   "file_extension": ".py",
   "mimetype": "text/x-python",
   "name": "python",
   "nbconvert_exporter": "python",
   "pygments_lexer": "ipython3",
   "version": "3.8.5"
  }
 },
 "nbformat": 4,
 "nbformat_minor": 4
}
